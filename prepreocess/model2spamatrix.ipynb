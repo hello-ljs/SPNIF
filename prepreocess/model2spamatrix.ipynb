{
 "cells": [
  {
   "cell_type": "code",
   "execution_count": 1,
   "metadata": {
    "collapsed": true
   },
   "outputs": [],
   "source": [
    "import numpy as np\n",
    "from scipy import sparse as ss\n",
    "from scipy.sparse import csr_matrix as cm\n",
    "import caffe\n",
    "from caffe import Net\n",
    "\n",
    "import sys \n",
    "sys.path.append('../src/')\n",
    "from blob2matrix import *"
   ]
  },
  {
   "cell_type": "code",
   "execution_count": 2,
   "metadata": {
    "collapsed": true
   },
   "outputs": [],
   "source": [
    "prototxt='/home/sdu/SPNIF//models/caffemodels/MNIST/lenet.prototxt'\n",
    "caffe_model='/home/sdu/SPNIF/models/caffemodels/MNIST/lenet.caffemodel' \n",
    "net = caffe.Net(prototxt,caffe_model, 0)\n",
    "[(k,v[0].data.shape) for k,v in net.params.items()]  #查看各层参数规模\n",
    "\n",
    "output_dir = '/home/sdu/SPNIF/models/convered_models/MNIST/'"
   ]
  },
  {
   "cell_type": "code",
   "execution_count": null,
   "metadata": {
    "collapsed": true
   },
   "outputs": [],
   "source": [
    "import json\n",
    "\n",
    "shape_dic = {}\n",
    "for k,v in net.params.items():\n",
    "    shape_dic[k] = v[0].data.shape\n",
    "shape_dic['conv1']\n",
    "with open('/home/sdu/SPNIF/models/convered_models/MNIST/shape_dic.json','w') as f:\n",
    "    json.dump(shape_dic,f) "
   ]
  },
  {
   "cell_type": "code",
   "execution_count": null,
   "metadata": {
    "collapsed": true
   },
   "outputs": [],
   "source": [
    "def blob2matrix_save_npy(layer_name):\n",
    "    param = net.params[layer_name][0].data\n",
    "    pm = filter_2_matrix(param)# param matirx\n",
    "    \n",
    "    np.save(output_dir + '{}'.format(layer_name),pm,'a')\n",
    "    print ('done')\n",
    "for k,v in net.params.items():\n",
    "    blob2matrix_save_npy(k)"
   ]
  },
  {
   "cell_type": "code",
   "execution_count": null,
   "metadata": {
    "collapsed": true
   },
   "outputs": [],
   "source": [
    "def matrix2csr(layer_name,name,threshold,prune = False,):\n",
    "    pm = np.load(layer_name)\n",
    "    counter = 0\n",
    "    for i_n in range(pm.shape[0]):\n",
    "        for i_c in range(pm.shape[1]):\n",
    "            if abs(pm[i_n][i_c]) < threshold:\n",
    "                if(prune == True):\n",
    "                    pm[i_n][i_c] = 0\n",
    "                counter = counter +1\n",
    "    spa_pm = cm(pm)\n",
    "    ss.save_npz( output_dir+ '{}'.format(name),spa_pm,'a')\n",
    "    #ss.save_npz(layer_name,spa_pm,'a')\n",
    "    zero_persent = (float(counter)/float(pm.size))*100\n",
    "    print('zero weights percentage in layer {} is: '.format(layer_name) + str(zero_persent)+'%')"
   ]
  },
  {
   "cell_type": "code",
   "execution_count": null,
   "metadata": {
    "collapsed": true
   },
   "outputs": [],
   "source": [
    "conv1 = '/home/sdu/SPNIF/models/convered_models/MNIST/fp16/conv1_fp16.npy'\n",
    "conv2 = '/home/sdu/SPNIF/models/convered_models/MNIST/fp16/conv2_fp16.npy'\n",
    "ip1 = '/home/sdu/SPNIF/models/convered_models/MNIST/fp16/ip1_fp16.npy'\n",
    "ip2 = '/home/sdu/SPNIF/models/convered_models/MNIST/fp16/ip2_fp16.npy'"
   ]
  },
  {
   "cell_type": "code",
   "execution_count": null,
   "metadata": {
    "collapsed": true
   },
   "outputs": [],
   "source": [
    "matrix2csr(conv1,'conv1',0.15,prune=True)\n",
    "matrix2csr(conv2,'conv2',0.03,prune=True)\n",
    "matrix2csr(ip1,'ip1',0.035,prune=True)\n",
    "#matrix2csr(ip2,'ip2',0.043,prune=True)"
   ]
  }
 ],
 "metadata": {
  "kernelspec": {
   "display_name": "Python 2",
   "language": "python",
   "name": "python2"
  },
  "language_info": {
   "codemirror_mode": {
    "name": "ipython",
    "version": 2
   },
   "file_extension": ".py",
   "mimetype": "text/x-python",
   "name": "python",
   "nbconvert_exporter": "python",
   "pygments_lexer": "ipython2",
   "version": "2.7.14"
  }
 },
 "nbformat": 4,
 "nbformat_minor": 2
}
