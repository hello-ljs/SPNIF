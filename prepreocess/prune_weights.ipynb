{
 "cells": [
  {
   "cell_type": "code",
   "execution_count": 1,
   "metadata": {
    "collapsed": true
   },
   "outputs": [],
   "source": [
    "import caffe\n",
    "import numpy as np\n",
    "from caffe import layers as L,params as P,proto,to_proto\n",
    "from caffe import Net"
   ]
  },
  {
   "cell_type": "code",
   "execution_count": 2,
   "metadata": {},
   "outputs": [
    {
     "data": {
      "text/plain": [
       "[('conv1_1', (64, 3, 3, 3)),\n",
       " ('conv1_2', (64, 64, 3, 3)),\n",
       " ('conv2_1', (128, 64, 3, 3)),\n",
       " ('conv2_2', (128, 128, 3, 3)),\n",
       " ('conv3_1', (256, 128, 3, 3)),\n",
       " ('conv3_2', (256, 256, 3, 3)),\n",
       " ('conv3_3', (256, 256, 3, 3)),\n",
       " ('conv4_1', (512, 256, 3, 3)),\n",
       " ('conv4_2', (512, 512, 3, 3)),\n",
       " ('conv4_3', (512, 512, 3, 3)),\n",
       " ('conv5_1', (512, 512, 3, 3)),\n",
       " ('conv5_2', (512, 512, 3, 3)),\n",
       " ('conv5_3', (512, 512, 3, 3)),\n",
       " ('fc6', (1024, 512, 3, 3)),\n",
       " ('fc7', (1024, 1024, 1, 1)),\n",
       " ('conv6_1', (256, 1024, 1, 1)),\n",
       " ('conv6_2', (512, 256, 3, 3)),\n",
       " ('conv7_1', (128, 512, 1, 1)),\n",
       " ('conv7_2', (256, 128, 3, 3)),\n",
       " ('conv8_1', (128, 256, 1, 1)),\n",
       " ('conv8_2', (256, 128, 3, 3)),\n",
       " ('conv9_1', (128, 256, 1, 1)),\n",
       " ('conv9_2', (256, 128, 3, 3)),\n",
       " ('conv4_3_norm', (512,)),\n",
       " ('conv4_3_norm_mbox_loc', (16, 512, 3, 3)),\n",
       " ('conv4_3_norm_mbox_conf', (84, 512, 3, 3)),\n",
       " ('fc7_mbox_loc', (24, 1024, 3, 3)),\n",
       " ('fc7_mbox_conf', (126, 1024, 3, 3)),\n",
       " ('conv6_2_mbox_loc', (24, 512, 3, 3)),\n",
       " ('conv6_2_mbox_conf', (126, 512, 3, 3)),\n",
       " ('conv7_2_mbox_loc', (24, 256, 3, 3)),\n",
       " ('conv7_2_mbox_conf', (126, 256, 3, 3)),\n",
       " ('conv8_2_mbox_loc', (16, 256, 3, 3)),\n",
       " ('conv8_2_mbox_conf', (84, 256, 3, 3)),\n",
       " ('conv9_2_mbox_loc', (16, 256, 3, 3)),\n",
       " ('conv9_2_mbox_conf', (84, 256, 3, 3))]"
      ]
     },
     "execution_count": 2,
     "metadata": {},
     "output_type": "execute_result"
    }
   ],
   "source": [
    "prototxt='/home/sdu/SPNIF//models/caffemodels/SSD300/deploy.prototxt'\n",
    "caffe_model='/home/sdu/SPNIF/models/caffemodels/SSD300/half-zero.caffemodel' \n",
    "net = caffe.Net(prototxt,caffe_model, 0)\n",
    "[(k,v[0].data.shape) for k,v in net.params.items()]  #查看各层参数规模"
   ]
  },
  {
   "cell_type": "code",
   "execution_count": 3,
   "metadata": {
    "collapsed": true
   },
   "outputs": [],
   "source": [
    "def prun_weights_conv(layer_name,threshold,state='count'):\n",
    "    b=net.params[layer_name][0].data\n",
    "    counter = 0\n",
    "    for i_n in range(b.shape[0]):\n",
    "        for i_c in range(b.shape[1]):\n",
    "            for i_h in range(b.shape[2]):\n",
    "                for i_w in range(b.shape[3]):\n",
    "                    if abs(net.params[layer_name][0].data[i_n][i_c][i_h][i_w]) < threshold:\n",
    "                        if (state == 'prune' ):\n",
    "                            net.params[layer_name][0].data[i_n][i_c][i_h][i_w]=0\n",
    "                        counter = counter +1\n",
    "    print ('totally '+ str(counter)+ ' barnches < threshold :'+str(threshold))\n",
    "    zero_persent = (float(counter)/float(b.size))*100\n",
    "    print('zero weights percentage in layer {} is: '.format(layer_name) + str(zero_persent)+'%')"
   ]
  },
  {
   "cell_type": "code",
   "execution_count": null,
   "metadata": {},
   "outputs": [],
   "source": [
    "#prun_weights_conv('conv1_1',0.14,'count')\n",
    "prun_weights_conv('conv1_1',0.14,'prune')"
   ]
  },
  {
   "cell_type": "code",
   "execution_count": null,
   "metadata": {},
   "outputs": [],
   "source": [
    "#prun_weights_conv('conv2_1',0.014,'count')\n",
    "prun_weights_conv('conv2_1',0.014,'prune')"
   ]
  },
  {
   "cell_type": "code",
   "execution_count": null,
   "metadata": {},
   "outputs": [],
   "source": [
    "#prun_weights_conv('conv2_2',0.011,'count')\n",
    "prun_weights_conv('conv2_2',0.011,'prune')"
   ]
  },
  {
   "cell_type": "code",
   "execution_count": null,
   "metadata": {},
   "outputs": [],
   "source": [
    "#prun_weights_conv('conv3_1',0.017,'count')\n",
    "prun_weights_conv('conv3_1',0.017,'prune')"
   ]
  },
  {
   "cell_type": "code",
   "execution_count": null,
   "metadata": {},
   "outputs": [],
   "source": [
    "#prun_weights_conv('conv3_2',0.0135,'count')\n",
    "prun_weights_conv('conv3_2',0.0135,'prune')"
   ]
  },
  {
   "cell_type": "code",
   "execution_count": null,
   "metadata": {},
   "outputs": [],
   "source": [
    "prun_weights_conv('conv3_3',0.0138,'count')\n",
    "#prun_weights_conv('conv3_3',0.0138,'prune')"
   ]
  },
  {
   "cell_type": "code",
   "execution_count": null,
   "metadata": {},
   "outputs": [],
   "source": [
    "#prun_weights_conv('conv4_1',0.0125,'count')\n",
    "prun_weights_conv('conv4_1',0.0125,'prune')"
   ]
  },
  {
   "cell_type": "code",
   "execution_count": null,
   "metadata": {},
   "outputs": [],
   "source": [
    "#prun_weights_conv('conv4_2',0.01,'count')\n",
    "prun_weights_conv('conv4_2',0.01,'prune')"
   ]
  },
  {
   "cell_type": "code",
   "execution_count": null,
   "metadata": {},
   "outputs": [],
   "source": [
    "#prun_weights_conv('conv4_3',0.01,'count')\n",
    "prun_weights_conv('conv4_3',0.01,'prune')"
   ]
  },
  {
   "cell_type": "code",
   "execution_count": null,
   "metadata": {},
   "outputs": [],
   "source": [
    "#prun_weights_conv('conv5_1',0.01,'count')\n",
    "prun_weights_conv('conv5_1',0.01,'prune')"
   ]
  },
  {
   "cell_type": "code",
   "execution_count": null,
   "metadata": {},
   "outputs": [],
   "source": [
    "#prun_weights_conv('conv5_2',0.009,'count')\n",
    "prun_weights_conv('conv5_2',0.009,'prune')"
   ]
  },
  {
   "cell_type": "code",
   "execution_count": null,
   "metadata": {
    "collapsed": true
   },
   "outputs": [],
   "source": []
  },
  {
   "cell_type": "code",
   "execution_count": null,
   "metadata": {
    "collapsed": true
   },
   "outputs": [],
   "source": []
  },
  {
   "cell_type": "code",
   "execution_count": null,
   "metadata": {
    "collapsed": true
   },
   "outputs": [],
   "source": []
  },
  {
   "cell_type": "code",
   "execution_count": null,
   "metadata": {
    "collapsed": true
   },
   "outputs": [],
   "source": []
  },
  {
   "cell_type": "code",
   "execution_count": null,
   "metadata": {},
   "outputs": [],
   "source": [
    "#prun_weights_conv('conv5_3',0.009,'count')\n",
    "prun_weights_conv('conv5_3',0.009,'prune')"
   ]
  },
  {
   "cell_type": "code",
   "execution_count": null,
   "metadata": {},
   "outputs": [],
   "source": [
    "#prun_weights_conv('conv6_1',0.029,'count')\n",
    "prun_weights_conv('conv6_1',0.029,'prune')"
   ]
  },
  {
   "cell_type": "code",
   "execution_count": null,
   "metadata": {},
   "outputs": [],
   "source": [
    "#prun_weights_conv('conv6_2',0.019,'count')\n",
    "prun_weights_conv('conv6_2',0.019,'prune')"
   ]
  },
  {
   "cell_type": "code",
   "execution_count": null,
   "metadata": {},
   "outputs": [],
   "source": [
    "#prun_weights_conv('fc6',0.005,'count')\n",
    "prun_weights_conv('fc6',0.005,'prune')"
   ]
  },
  {
   "cell_type": "code",
   "execution_count": null,
   "metadata": {},
   "outputs": [],
   "source": [
    "#prun_weights_conv('fc7',0.008,'count')\n",
    "prun_weights_conv('fc7',0.008,'prune')"
   ]
  },
  {
   "cell_type": "code",
   "execution_count": null,
   "metadata": {},
   "outputs": [],
   "source": [
    "#prun_weights_conv('conv6_1',0.029,'count')\n",
    "prun_weights_conv('conv6_1',0.029,'prune')"
   ]
  },
  {
   "cell_type": "code",
   "execution_count": null,
   "metadata": {},
   "outputs": [],
   "source": [
    "#prun_weights_conv('conv6_2',0.019,'count')\n",
    "prun_weights_conv('conv6_2',0.019,'prune')"
   ]
  },
  {
   "cell_type": "code",
   "execution_count": null,
   "metadata": {},
   "outputs": [],
   "source": [
    "#prun_weights_conv('conv7_1',0.04,'count')\n",
    "prun_weights_conv('conv7_1',0.04,'prune')"
   ]
  },
  {
   "cell_type": "code",
   "execution_count": null,
   "metadata": {},
   "outputs": [],
   "source": [
    "#prun_weights_conv('conv7_2',0.026,'count')\n",
    "prun_weights_conv('conv7_2',0.026,'prune')"
   ]
  },
  {
   "cell_type": "code",
   "execution_count": null,
   "metadata": {},
   "outputs": [],
   "source": [
    "#prun_weights_conv('conv8_1',0.056,'count')\n",
    "prun_weights_conv('conv8_1',0.056,'prune')"
   ]
  },
  {
   "cell_type": "code",
   "execution_count": null,
   "metadata": {},
   "outputs": [],
   "source": [
    "#prun_weights_conv('conv8_2',0.026,'count')\n",
    "prun_weights_conv('conv8_2',0.026,'prune')"
   ]
  },
  {
   "cell_type": "code",
   "execution_count": null,
   "metadata": {},
   "outputs": [],
   "source": [
    "#prun_weights_conv('conv9_1',0.056,'count')\n",
    "prun_weights_conv('conv9_1',0.056,'prune')"
   ]
  },
  {
   "cell_type": "code",
   "execution_count": null,
   "metadata": {},
   "outputs": [],
   "source": [
    "#prun_weights_conv('conv9_2',0.026,'count')\n",
    "prun_weights_conv('conv9_2',0.026,'prune')"
   ]
  },
  {
   "cell_type": "code",
   "execution_count": null,
   "metadata": {},
   "outputs": [],
   "source": [
    "#prun_weights_conv('conv4_3_norm_mbox_loc',0.011,'count')\n",
    "prun_weights_conv('conv4_3_norm_mbox_loc',0.011,'prune')"
   ]
  },
  {
   "cell_type": "code",
   "execution_count": null,
   "metadata": {
    "collapsed": true
   },
   "outputs": [],
   "source": []
  },
  {
   "cell_type": "code",
   "execution_count": null,
   "metadata": {
    "collapsed": true
   },
   "outputs": [],
   "source": []
  },
  {
   "cell_type": "code",
   "execution_count": null,
   "metadata": {
    "collapsed": true
   },
   "outputs": [],
   "source": []
  },
  {
   "cell_type": "code",
   "execution_count": null,
   "metadata": {
    "collapsed": true
   },
   "outputs": [],
   "source": []
  },
  {
   "cell_type": "code",
   "execution_count": null,
   "metadata": {},
   "outputs": [],
   "source": [
    "#prun_weights_conv('conv4_3_norm_mbox_conf',0.014,'count')\n",
    "prun_weights_conv('conv4_3_norm_mbox_conf',0.014,'prune')"
   ]
  },
  {
   "cell_type": "code",
   "execution_count": null,
   "metadata": {},
   "outputs": [],
   "source": [
    "#prun_weights_conv('fc7_mbox_loc',0.01,'count')\n",
    "prun_weights_conv('fc7_mbox_loc',0.01,'prune')"
   ]
  },
  {
   "cell_type": "code",
   "execution_count": null,
   "metadata": {},
   "outputs": [],
   "source": [
    "#prun_weights_conv('fc7_mbox_conf',0.01,'count')\n",
    "prun_weights_conv('fc7_mbox_conf',0.01,'prune')"
   ]
  },
  {
   "cell_type": "code",
   "execution_count": null,
   "metadata": {},
   "outputs": [],
   "source": [
    "#prun_weights_conv('conv6_2_mbox_loc',0.0125,'count')\n",
    "prun_weights_conv('conv6_2_mbox_loc',0.0125,'prune')"
   ]
  },
  {
   "cell_type": "code",
   "execution_count": null,
   "metadata": {},
   "outputs": [],
   "source": [
    "#prun_weights_conv('conv6_2_mbox_conf',0.014,'count')\n",
    "prun_weights_conv('conv6_2_mbox_conf',0.014,'prune')"
   ]
  },
  {
   "cell_type": "code",
   "execution_count": null,
   "metadata": {},
   "outputs": [],
   "source": [
    "#prun_weights_conv('conv6_2_mbox_conf',0.014,'count')\n",
    "prun_weights_conv('conv6_2_mbox_conf',0.014,'prune')"
   ]
  },
  {
   "cell_type": "code",
   "execution_count": null,
   "metadata": {},
   "outputs": [],
   "source": [
    "#prun_weights_conv('conv7_2_mbox_loc',0.016,'count')\n",
    "prun_weights_conv('conv7_2_mbox_loc',0.016,'prune')"
   ]
  },
  {
   "cell_type": "code",
   "execution_count": null,
   "metadata": {},
   "outputs": [],
   "source": [
    "#prun_weights_conv('conv7_2_mbox_conf',0.019,'count')\n",
    "prun_weights_conv('conv7_2_mbox_conf',0.019,'prune')"
   ]
  },
  {
   "cell_type": "code",
   "execution_count": null,
   "metadata": {},
   "outputs": [],
   "source": [
    "#prun_weights_conv('conv8_2_mbox_conf',0.019,'count')\n",
    "prun_weights_conv('conv8_2_mbox_conf',0.019,'prune')"
   ]
  },
  {
   "cell_type": "code",
   "execution_count": null,
   "metadata": {},
   "outputs": [],
   "source": [
    "#prun_weights_conv('conv8_2_mbox_loc',0.016,'count')\n",
    "prun_weights_conv('conv8_2_mbox_loc',0.016,'prune')"
   ]
  },
  {
   "cell_type": "code",
   "execution_count": null,
   "metadata": {},
   "outputs": [],
   "source": [
    "#prun_weights_conv('conv9_2_mbox_conf',0.0185,'count')\n",
    "prun_weights_conv('conv9_2_mbox_conf',0.0185,'prune')"
   ]
  },
  {
   "cell_type": "code",
   "execution_count": null,
   "metadata": {},
   "outputs": [],
   "source": [
    "#prun_weights_conv('conv9_2_mbox_loc',0.018,'count')\n",
    "prun_weights_conv('conv9_2_mbox_loc',0.018,'prune')"
   ]
  },
  {
   "cell_type": "code",
   "execution_count": null,
   "metadata": {
    "collapsed": true
   },
   "outputs": [],
   "source": []
  },
  {
   "cell_type": "code",
   "execution_count": null,
   "metadata": {
    "collapsed": true
   },
   "outputs": [],
   "source": []
  },
  {
   "cell_type": "code",
   "execution_count": null,
   "metadata": {
    "collapsed": true
   },
   "outputs": [],
   "source": []
  },
  {
   "cell_type": "code",
   "execution_count": null,
   "metadata": {
    "collapsed": true
   },
   "outputs": [],
   "source": []
  },
  {
   "cell_type": "code",
   "execution_count": null,
   "metadata": {
    "collapsed": true
   },
   "outputs": [],
   "source": []
  },
  {
   "cell_type": "code",
   "execution_count": null,
   "metadata": {
    "collapsed": true
   },
   "outputs": [],
   "source": []
  },
  {
   "cell_type": "code",
   "execution_count": null,
   "metadata": {
    "collapsed": true
   },
   "outputs": [],
   "source": [
    "net.save(caffe_model)"
   ]
  },
  {
   "cell_type": "code",
   "execution_count": null,
   "metadata": {
    "collapsed": true
   },
   "outputs": [],
   "source": []
  },
  {
   "cell_type": "code",
   "execution_count": null,
   "metadata": {
    "collapsed": true
   },
   "outputs": [],
   "source": []
  },
  {
   "cell_type": "code",
   "execution_count": null,
   "metadata": {
    "collapsed": true
   },
   "outputs": [],
   "source": []
  },
  {
   "cell_type": "code",
   "execution_count": null,
   "metadata": {
    "collapsed": true
   },
   "outputs": [],
   "source": []
  },
  {
   "cell_type": "code",
   "execution_count": null,
   "metadata": {
    "collapsed": true
   },
   "outputs": [],
   "source": []
  },
  {
   "cell_type": "code",
   "execution_count": null,
   "metadata": {
    "collapsed": true
   },
   "outputs": [],
   "source": [
    "def change_array_dtype(layer_name,dtype=np.float16):\n",
    "    layer = net.params[layer_name][0].data\n",
    "    layer = layer.astype(dtype)\n",
    "    net.save(caffemodel_dc)\n",
    "    #print (layer.dtype)\n",
    "    return layer \n",
    "\n",
    "for k in net.params:\n",
    "    change_array_dtype(k)"
   ]
  },
  {
   "cell_type": "code",
   "execution_count": null,
   "metadata": {
    "collapsed": true
   },
   "outputs": [],
   "source": [
    "a = net.params['conv1'][0].data\n",
    "print (type(a))\n",
    "print (a.dtype)\n",
    "print (a.size) #64*3*3*3\n",
    "print (a.shape)\n",
    "print (a.ndim) # 维度\n",
    "print (np.median(abs(a)))#中位数\n",
    "print (a.min())\n",
    "b = np.around(a,decimals=4)\n",
    "print b.itemsize\n",
    "print a.itemsize\n"
   ]
  },
  {
   "cell_type": "code",
   "execution_count": null,
   "metadata": {
    "collapsed": true
   },
   "outputs": [],
   "source": [
    "a=abs(a)#负权重取绝对值\n",
    "a.clip(max=1.0630533e-02,min=1.0630533e-04)"
   ]
  },
  {
   "cell_type": "code",
   "execution_count": null,
   "metadata": {
    "collapsed": true
   },
   "outputs": [],
   "source": [
    "b.astype(np.float16)\n",
    "np.save('4_3_float.npy',b)"
   ]
  },
  {
   "cell_type": "code",
   "execution_count": null,
   "metadata": {
    "collapsed": true
   },
   "outputs": [],
   "source": [
    "data = net.params['conv1_1'][0].data\n",
    "np.save('data.npy',data)"
   ]
  },
  {
   "cell_type": "code",
   "execution_count": null,
   "metadata": {
    "collapsed": true
   },
   "outputs": [],
   "source": [
    "np.load('../models/caffemodels/MNIST/ip1.npy')"
   ]
  },
  {
   "cell_type": "code",
   "execution_count": null,
   "metadata": {
    "collapsed": true
   },
   "outputs": [],
   "source": [
    "def change_array_dtype(net_32,dtype=np.float16):\n",
    "    for layer_name in net_32.params:\n",
    "        \n",
    "        layer = net_32.params[layer_name][0].data\n",
    "        layer = layer.astype(dtype)\n",
    "change_array_dtype(net)\n",
    "net.save(caffemodel_dc)"
   ]
  },
  {
   "cell_type": "code",
   "execution_count": null,
   "metadata": {
    "collapsed": true
   },
   "outputs": [],
   "source": []
  }
 ],
 "metadata": {
  "kernelspec": {
   "display_name": "Python 2",
   "language": "python",
   "name": "python2"
  },
  "language_info": {
   "codemirror_mode": {
    "name": "ipython",
    "version": 2
   },
   "file_extension": ".py",
   "mimetype": "text/x-python",
   "name": "python",
   "nbconvert_exporter": "python",
   "pygments_lexer": "ipython2",
   "version": "2.7.14"
  }
 },
 "nbformat": 4,
 "nbformat_minor": 2
}
