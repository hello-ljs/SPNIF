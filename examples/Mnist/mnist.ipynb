{
 "cells": [
  {
   "cell_type": "code",
   "execution_count": 10,
   "metadata": {},
   "outputs": [],
   "source": [
    "import sys \n",
    "sys.path.append('../../src/')\n",
    "from blob2matrix import *\n",
    "from cnn_layers import *\n",
    "import cv2\n",
    "import json"
   ]
  },
  {
   "cell_type": "code",
   "execution_count": 2,
   "metadata": {
    "collapsed": true
   },
   "outputs": [],
   "source": [
    "filter_conv1='/home/sdu/SPNIF/models/convered_models/MNIST/conv1.npz'\n",
    "filter_conv2='/home/sdu/SPNIF/models/convered_models/MNIST/conv2.npz'\n",
    "filter_ip1='/home/sdu/SPNIF/models/convered_models/MNIST/ip1.npz'\n",
    "filter_ip2='/home/sdu/SPNIF/models/convered_models/MNIST/ip2.npz'"
   ]
  },
  {
   "cell_type": "code",
   "execution_count": 16,
   "metadata": {},
   "outputs": [
    {
     "name": "stdout",
     "output_type": "stream",
     "text": [
      "{u'ip2': [10, 500], u'conv2': [50, 20, 5, 5], u'conv1': [20, 1, 5, 5], u'ip1': [500, 800]}\n"
     ]
    }
   ],
   "source": [
    "with open ('/home/sdu/SPNIF/models/convered_models/MNIST/shape_dic.json','r') as r:\n",
    "    shape_dict = json.load(r)\n",
    "    print (shape_dict)"
   ]
  },
  {
   "cell_type": "code",
   "execution_count": null,
   "metadata": {
    "collapsed": true
   },
   "outputs": [],
   "source": [
    "#filter_conv1='/home/sdu/SPNIF/models/convered_models/MNIST_16/conv1.npy'\n",
    "#filter_conv2='/home/sdu/SPNIF/models/convered_models/MNIST_16/conv2.npy'\n",
    "#filter_ip1='/home/sdu/SPNIF/models/convered_models/MNIST_16/ip1.npy'\n",
    "#filter_ip2='/home/sdu/SPNIF/models/convered_models/MNIST_16/ip2.npy'"
   ]
  },
  {
   "cell_type": "code",
   "execution_count": 3,
   "metadata": {},
   "outputs": [],
   "source": [
    "test_img = cv2.imread('/home/sdu/SPNIF/images/numbers/8/00061.png')\n",
    "test_img = cv2.cvtColor(test_img,cv2.COLOR_RGB2GRAY)\n",
    "#https://blog.csdn.net/mrr1ght/article/details/80081657 关与caffe中图像通道问题\n",
    "test_img = test_img.astype(np.float32)\n",
    "test_img = test_img.reshape(1,1,28,28)\n",
    "#test_img = test_img /255"
   ]
  },
  {
   "cell_type": "code",
   "execution_count": 24,
   "metadata": {},
   "outputs": [],
   "source": [
    "conv1_out = convolution(test_img,filter_conv1,1,1,0,0,shape_dict['conv1'])\n",
    "pool1_out = max_pooling(conv1_out,(2,2),strides=(2,2))\n",
    "conv2_out = convolution(pool1_out,filter_conv2,1,1,0,0,shape_dict['conv2'])\n",
    "pool2_out = max_pooling(conv2_out,(2,2),strides=(2,2))\n",
    "ip1_out = fc_layer(pool2_out,filter_ip1)\n",
    "relu1_out = relu(ip1_out)\n",
    "ip2_out = fc_layer(relu1_out,filter_ip2)"
   ]
  },
  {
   "cell_type": "code",
   "execution_count": 21,
   "metadata": {},
   "outputs": [
    {
     "data": {
      "text/plain": [
       "array([[ -489.63629888, -1838.41262681, -2585.20579096,   813.13430408,\n",
       "        -1973.96746819,  2914.03404836,  -505.27399795, -1283.14787532,\n",
       "         1117.59031968,  2287.1814504 ]])"
      ]
     },
     "execution_count": 21,
     "metadata": {},
     "output_type": "execute_result"
    }
   ],
   "source": [
    "ip2_out"
   ]
  },
  {
   "cell_type": "code",
   "execution_count": null,
   "metadata": {
    "collapsed": true
   },
   "outputs": [],
   "source": [
    "def softmax_new(x):\n",
    "    y = list()\n",
    "    for t in x:\n",
    "        e_t = np.exp(t - np.max(t))\n",
    "        y.append(e_t / e_t.sum())\n",
    "    return np.array(y)"
   ]
  },
  {
   "cell_type": "code",
   "execution_count": null,
   "metadata": {},
   "outputs": [],
   "source": [
    "result = softmax_new(ip2_out)\n",
    "result"
   ]
  },
  {
   "cell_type": "code",
   "execution_count": null,
   "metadata": {
    "collapsed": true
   },
   "outputs": [],
   "source": [
    "result.argmax()"
   ]
  }
 ],
 "metadata": {
  "kernelspec": {
   "display_name": "Python 2",
   "language": "python",
   "name": "python2"
  },
  "language_info": {
   "codemirror_mode": {
    "name": "ipython",
    "version": 2
   },
   "file_extension": ".py",
   "mimetype": "text/x-python",
   "name": "python",
   "nbconvert_exporter": "python",
   "pygments_lexer": "ipython2",
   "version": "2.7.14"
  }
 },
 "nbformat": 4,
 "nbformat_minor": 2
}
