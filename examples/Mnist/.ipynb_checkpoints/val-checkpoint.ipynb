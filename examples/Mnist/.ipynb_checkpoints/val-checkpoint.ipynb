{
 "cells": [
  {
   "cell_type": "code",
   "execution_count": 1,
   "metadata": {
    "collapsed": true
   },
   "outputs": [],
   "source": [
    "import caffe\n",
    "import numpy as np\n",
    "from caffe import layers as L,params as P,proto,to_proto\n",
    "from caffe import Net\n",
    "import cv2"
   ]
  },
  {
   "cell_type": "code",
   "execution_count": 2,
   "metadata": {
    "collapsed": true
   },
   "outputs": [],
   "source": [
    "prototxt='/home/sdu/SPNIF/mnist/lenet_train_test.prototxt'\n",
    "caffe_model='/home/sdu/SPNIF/mnist/lenet_iter_10000.caffemodel'\n",
    "net = caffe.Net(prototxt,caffe_model, caffe.TEST)\n",
    "[(k,v[0].data.shape) for k,v in net.params.items()]  #查看各层参数规模"
   ]
  },
  {
   "cell_type": "code",
   "execution_count": null,
   "metadata": {
    "collapsed": true
   },
   "outputs": [],
   "source": [
    "img = '/home/sdu/SPNIF/images/numbers/8/00061.png'\n",
    "img = cv2.imread(img)\n",
    "img = cv2.cvtColor(img,cv2.COLOR_RGB2GRAY)\n",
    "img = img.astype(np.float32)\n",
    "img = img.reshape(1,1,28,28)"
   ]
  },
  {
   "cell_type": "code",
   "execution_count": 3,
   "metadata": {
    "scrolled": true
   },
   "outputs": [
    {
     "data": {
      "text/plain": [
       "[('conv1', (20, 1, 5, 5)),\n",
       " ('conv2', (50, 20, 5, 5)),\n",
       " ('ip1', (500, 800)),\n",
       " ('ip2', (10, 500))]"
      ]
     },
     "execution_count": 3,
     "metadata": {},
     "output_type": "execute_result"
    }
   ],
   "source": []
  },
  {
   "cell_type": "code",
   "execution_count": null,
   "metadata": {},
   "outputs": [],
   "source": [
    "net.blobs['data'].data[...] = img\n",
    "out = net.forward()\n",
    "out."
   ]
  },
  {
   "cell_type": "code",
   "execution_count": null,
   "metadata": {
    "collapsed": true
   },
   "outputs": [],
   "source": [
    "transformer = caffe.io.Transformer({'data': net.blobs['data'].data.shape})\n",
    "\n",
    "transformer.set_transpose('data', (2,0,1))  # move image channels to outermost dimension\n",
    "#transformer.set_mean('data', mu)            # subtract the dataset-mean value in each channel\n",
    "transformer.set_raw_scale('data', 255)      # rescale from [0, 1] to [0, 255]\n",
    "transformer.set_channel_swap('data', (2,1,0))  # swap channels from RGB to BGR\n",
    "# bus 4,\n",
    "# dinosaur 3  \n",
    "# elephant 4\n",
    "# flower 4 \n",
    "# horse 3,4\n",
    "net.blobs['data'].reshape(1,3,227,227)  \n",
    "img = caffe.io.load_image('/home/sdu/SPNIF/images/Alexnet/train/522.jpg')\n",
    "transformed_image = transformer.preprocess('data', img)\n",
    "plt.imshow(img)\n",
    "net.blobs['data'].data[...] = transformed_image\n",
    "out = net.forward()\n",
    "output_prob = out['prob'][0]\n",
    "print (output_prob)\n",
    "print (output_prob.argmax())"
   ]
  },
  {
   "cell_type": "code",
   "execution_count": null,
   "metadata": {
    "collapsed": true
   },
   "outputs": [],
   "source": [
    "#conv1 = net.params['conv1'][0].data\n",
    "#np.save('/home/sdu/SPNIF/models/convered_models/MNIST_32/conv1.npy',conv1,'a')\n",
    "#conv2 = net.params['conv2'][0].data\n",
    "#np.save('/home/sdu/SPNIF/models/convered_models/MNIST_32/conv2.npy',conv2,'a')\n",
    "#ip1 = net.params['ip1'][0].data\n",
    "#np.save('/home/sdu/SPNIF/models/convered_models/MNIST_32/ip1.npy',ip1,'a')\n",
    "#ip2 = net.params['ip2'][0].data\n",
    "#np.save('/home/sdu/SPNIF/models/convered_models/MNIST_32/ip2.npy',ip2,'a')"
   ]
  },
  {
   "cell_type": "code",
   "execution_count": null,
   "metadata": {
    "collapsed": true
   },
   "outputs": [],
   "source": [
    "#net.blobs['data'].data#conv1 layer output blob shape"
   ]
  },
  {
   "cell_type": "code",
   "execution_count": null,
   "metadata": {},
   "outputs": [],
   "source": [
    "vector = net.blobs['ip2'].data\n",
    "vector"
   ]
  },
  {
   "cell_type": "code",
   "execution_count": null,
   "metadata": {
    "collapsed": true
   },
   "outputs": [],
   "source": [
    "def softmax(vector):\n",
    "    return np.exp(vector)/np.sum(np.exp(vector))\n",
    "def softmax_new(x):\n",
    "    y = list()\n",
    "    for t in x:\n",
    "        e_t = np.exp(t - np.max(t))\n",
    "        y.append(e_t / e_t.sum())\n",
    "    return np.array(y)"
   ]
  },
  {
   "cell_type": "code",
   "execution_count": null,
   "metadata": {},
   "outputs": [],
   "source": [
    "out_new = softmax_new(vector)\n",
    "out_new"
   ]
  },
  {
   "cell_type": "code",
   "execution_count": null,
   "metadata": {},
   "outputs": [],
   "source": [
    "out = softmax(vector)\n",
    "out"
   ]
  },
  {
   "cell_type": "code",
   "execution_count": null,
   "metadata": {
    "collapsed": true
   },
   "outputs": [],
   "source": [
    "#net.blobs['data'].data"
   ]
  },
  {
   "cell_type": "code",
   "execution_count": null,
   "metadata": {
    "collapsed": true
   },
   "outputs": [],
   "source": []
  }
 ],
 "metadata": {
  "kernelspec": {
   "display_name": "Python 2",
   "language": "python",
   "name": "python2"
  },
  "language_info": {
   "codemirror_mode": {
    "name": "ipython",
    "version": 2
   },
   "file_extension": ".py",
   "mimetype": "text/x-python",
   "name": "python",
   "nbconvert_exporter": "python",
   "pygments_lexer": "ipython2",
   "version": "2.7.14"
  }
 },
 "nbformat": 4,
 "nbformat_minor": 2
}
