{
 "cells": [
  {
   "cell_type": "code",
   "execution_count": 1,
   "metadata": {},
   "outputs": [],
   "source": [
    "import sys \n",
    "sys.path.append('../../src/')\n",
    "from blob2matrix import *\n",
    "from cnn_layers import *\n",
    "import cv2"
   ]
  },
  {
   "cell_type": "code",
   "execution_count": 2,
   "metadata": {
    "collapsed": true
   },
   "outputs": [],
   "source": [
    "filter_conv1='/home/sdu/SPNIF/models/convered_models/MNIST/conv1.npz'\n",
    "filter_conv2='/home/sdu/SPNIF/models/convered_models/MNIST/conv2.npz'\n",
    "filter_ip1='/home/sdu/SPNIF/models/convered_models/MNIST/ip1.npz'\n",
    "filter_ip2='/home/sdu/SPNIF/models/convered_models/MNIST/ip2.npz'"
   ]
  },
  {
   "cell_type": "code",
   "execution_count": null,
   "metadata": {
    "collapsed": true
   },
   "outputs": [],
   "source": [
    "#filter_conv1='/home/sdu/SPNIF/models/convered_models/MNIST_16/conv1.npy'\n",
    "#filter_conv2='/home/sdu/SPNIF/models/convered_models/MNIST_16/conv2.npy'\n",
    "#filter_ip1='/home/sdu/SPNIF/models/convered_models/MNIST_16/ip1.npy'\n",
    "#filter_ip2='/home/sdu/SPNIF/models/convered_models/MNIST_16/ip2.npy'"
   ]
  },
  {
   "cell_type": "code",
   "execution_count": 3,
   "metadata": {},
   "outputs": [],
   "source": [
    "test_img = cv2.imread('/home/sdu/SPNIF/images/numbers/8/00061.png')\n",
    "test_img = cv2.cvtColor(test_img,cv2.COLOR_RGB2GRAY)\n",
    "#https://blog.csdn.net/mrr1ght/article/details/80081657 关与caffe中图像通道问题\n",
    "test_img = test_img.astype(np.float32)\n",
    "test_img = test_img.reshape(1,1,28,28)\n",
    "#test_img = test_img /255"
   ]
  },
  {
   "cell_type": "code",
   "execution_count": 4,
   "metadata": {},
   "outputs": [
    {
     "ename": "ValueError",
     "evalue": "cannot reshape array of size 11520 into shape (1,1,24,24)",
     "output_type": "error",
     "traceback": [
      "\u001b[0;31m---------------------------------------------------------------------------\u001b[0m",
      "\u001b[0;31mValueError\u001b[0m                                Traceback (most recent call last)",
      "\u001b[0;32m<ipython-input-4-db0d08ed4e04>\u001b[0m in \u001b[0;36m<module>\u001b[0;34m()\u001b[0m\n\u001b[0;32m----> 1\u001b[0;31m \u001b[0mconv1_out\u001b[0m \u001b[0;34m=\u001b[0m \u001b[0mconvolution\u001b[0m\u001b[0;34m(\u001b[0m\u001b[0mtest_img\u001b[0m\u001b[0;34m,\u001b[0m\u001b[0mfilter_conv1\u001b[0m\u001b[0;34m,\u001b[0m\u001b[0;36m1\u001b[0m\u001b[0;34m,\u001b[0m\u001b[0;36m1\u001b[0m\u001b[0;34m,\u001b[0m\u001b[0;36m0\u001b[0m\u001b[0;34m,\u001b[0m\u001b[0;36m0\u001b[0m\u001b[0;34m,\u001b[0m\u001b[0;34m(\u001b[0m\u001b[0;36m1\u001b[0m\u001b[0;34m,\u001b[0m\u001b[0;36m1\u001b[0m\u001b[0;34m,\u001b[0m\u001b[0;36m5\u001b[0m\u001b[0;34m,\u001b[0m\u001b[0;36m5\u001b[0m\u001b[0;34m)\u001b[0m\u001b[0;34m)\u001b[0m\u001b[0;34m\u001b[0m\u001b[0m\n\u001b[0m",
      "\u001b[0;32m/home/sdu/SPNIF/src/cnn_layers.py\u001b[0m in \u001b[0;36mconvolution\u001b[0;34m(input_feature, filters, stride_w, stride_h, pad_w, pad_h, *args)\u001b[0m\n\u001b[1;32m     22\u001b[0m     \u001b[0mout_w\u001b[0m \u001b[0;34m=\u001b[0m \u001b[0;34m(\u001b[0m\u001b[0mW\u001b[0m \u001b[0;34m+\u001b[0m \u001b[0;36m2\u001b[0m \u001b[0;34m*\u001b[0m \u001b[0mpad_h\u001b[0m \u001b[0;34m-\u001b[0m \u001b[0margs\u001b[0m\u001b[0;34m[\u001b[0m\u001b[0;36m0\u001b[0m\u001b[0;34m]\u001b[0m\u001b[0;34m[\u001b[0m\u001b[0;36m3\u001b[0m\u001b[0;34m]\u001b[0m\u001b[0;34m)\u001b[0m \u001b[0;34m//\u001b[0m \u001b[0mstride_h\u001b[0m \u001b[0;34m+\u001b[0m \u001b[0;36m1\u001b[0m\u001b[0;34m\u001b[0m\u001b[0m\n\u001b[1;32m     23\u001b[0m \u001b[0;34m\u001b[0m\u001b[0m\n\u001b[0;32m---> 24\u001b[0;31m     \u001b[0moutput_feature\u001b[0m \u001b[0;34m=\u001b[0m \u001b[0moutput_feature_matrix\u001b[0m\u001b[0;34m.\u001b[0m\u001b[0mreshape\u001b[0m\u001b[0;34m(\u001b[0m\u001b[0mout_n\u001b[0m\u001b[0;34m,\u001b[0m\u001b[0mout_c\u001b[0m\u001b[0;34m,\u001b[0m\u001b[0mout_h\u001b[0m\u001b[0;34m,\u001b[0m\u001b[0mout_w\u001b[0m\u001b[0;34m)\u001b[0m\u001b[0;34m\u001b[0m\u001b[0m\n\u001b[0m\u001b[1;32m     25\u001b[0m     \u001b[0;32mreturn\u001b[0m \u001b[0moutput_feature\u001b[0m\u001b[0;34m\u001b[0m\u001b[0m\n\u001b[1;32m     26\u001b[0m \u001b[0;34m\u001b[0m\u001b[0m\n",
      "\u001b[0;31mValueError\u001b[0m: cannot reshape array of size 11520 into shape (1,1,24,24)"
     ]
    }
   ],
   "source": [
    "conv1_out = convolution(test_img,filter_conv1,1,1,0,0,(20,1,5,5))"
   ]
  },
  {
   "cell_type": "code",
   "execution_count": null,
   "metadata": {},
   "outputs": [],
   "source": [
    "\n",
    "pool1_out = max_pooling(conv1_out,(2,2),strides=(2,2))\n",
    "conv2_out = convolution(pool1_out,filter_conv2,1,1,0,0)\n",
    "pool2_out = max_pooling(conv2_out,(2,2),strides=(2,2))\n",
    "ip1_out = fc_layer(pool2_out,filter_ip1)\n",
    "relu1_out = relu(ip1_out)\n",
    "ip2_out = fc_layer(relu1_out,filter_ip2)"
   ]
  },
  {
   "cell_type": "code",
   "execution_count": null,
   "metadata": {},
   "outputs": [],
   "source": [
    "ip2_out"
   ]
  },
  {
   "cell_type": "code",
   "execution_count": null,
   "metadata": {
    "collapsed": true
   },
   "outputs": [],
   "source": [
    "def softmax_new(x):\n",
    "    y = list()\n",
    "    for t in x:\n",
    "        e_t = np.exp(t - np.max(t))\n",
    "        y.append(e_t / e_t.sum())\n",
    "    return np.array(y)"
   ]
  },
  {
   "cell_type": "code",
   "execution_count": null,
   "metadata": {},
   "outputs": [],
   "source": [
    "result = softmax_new(ip2_out)\n",
    "result"
   ]
  },
  {
   "cell_type": "code",
   "execution_count": null,
   "metadata": {
    "collapsed": true
   },
   "outputs": [],
   "source": [
    "result.argmax()"
   ]
  }
 ],
 "metadata": {
  "kernelspec": {
   "display_name": "Python 2",
   "language": "python",
   "name": "python2"
  },
  "language_info": {
   "codemirror_mode": {
    "name": "ipython",
    "version": 2
   },
   "file_extension": ".py",
   "mimetype": "text/x-python",
   "name": "python",
   "nbconvert_exporter": "python",
   "pygments_lexer": "ipython2",
   "version": "2.7.14"
  }
 },
 "nbformat": 4,
 "nbformat_minor": 2
}
