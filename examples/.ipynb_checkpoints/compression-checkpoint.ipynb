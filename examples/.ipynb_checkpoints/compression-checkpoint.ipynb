{
 "cells": [
  {
   "cell_type": "code",
   "execution_count": 2,
   "metadata": {
    "collapsed": true
   },
   "outputs": [],
   "source": [
    "import caffe\n",
    "import numpy as np\n",
    "from caffe import layers as L,params as P,proto,to_proto\n",
    "from caffe import Net\n",
    "import cv2"
   ]
  },
  {
   "cell_type": "code",
   "execution_count": 3,
   "metadata": {},
   "outputs": [],
   "source": [
    "prototxt='/home/sdu/SPNIF/mnist/lenet_train_test.prototxt'\n",
    "caffe_model='/home/sdu/SPNIF/mnist/lenet_iter_10000.caffemodel' \n",
    "img = '/home/sdu/SPNIF/images/numbers/1/00023.png'\n",
    "img = cv2.imread(img)\n",
    "img = cv2.cvtColor(img,cv2.COLOR_RGB2GRAY)\n",
    "img = img.astype(np.float32)\n",
    "img = img.reshape(1,1,28,28)"
   ]
  },
  {
   "cell_type": "code",
   "execution_count": 4,
   "metadata": {
    "scrolled": true
   },
   "outputs": [
    {
     "data": {
      "text/plain": [
       "[('conv1', (20, 1, 5, 5)),\n",
       " ('conv2', (50, 20, 5, 5)),\n",
       " ('ip1', (500, 800)),\n",
       " ('ip2', (10, 500))]"
      ]
     },
     "execution_count": 4,
     "metadata": {},
     "output_type": "execute_result"
    }
   ],
   "source": [
    "net = caffe.Net(prototxt,caffe_model, caffe.TEST)\n",
    "[(k,v[0].data.shape) for k,v in net.params.items()]  #查看各层参数规模"
   ]
  },
  {
   "cell_type": "code",
   "execution_count": 5,
   "metadata": {
    "collapsed": true
   },
   "outputs": [],
   "source": [
    "net.blobs['data'].data[...] = img\n",
    "out = net.forward()  "
   ]
  },
  {
   "cell_type": "code",
   "execution_count": null,
   "metadata": {
    "collapsed": true
   },
   "outputs": [],
   "source": [
    "#conv1 = net.params['conv1'][0].data\n",
    "#np.save('/home/sdu/SPNIF/models/convered_models/MNIST_32/conv1.npy',conv1,'a')\n",
    "#conv2 = net.params['conv2'][0].data\n",
    "#np.save('/home/sdu/SPNIF/models/convered_models/MNIST_32/conv2.npy',conv2,'a')\n",
    "#ip1 = net.params['ip1'][0].data\n",
    "#np.save('/home/sdu/SPNIF/models/convered_models/MNIST_32/ip1.npy',ip1,'a')\n",
    "#ip2 = net.params['ip2'][0].data\n",
    "#np.save('/home/sdu/SPNIF/models/convered_models/MNIST_32/ip2.npy',ip2,'a')"
   ]
  },
  {
   "cell_type": "code",
   "execution_count": null,
   "metadata": {
    "collapsed": true
   },
   "outputs": [],
   "source": [
    "#net.blobs['data'].data#conv1 layer output blob shape"
   ]
  },
  {
   "cell_type": "code",
   "execution_count": 6,
   "metadata": {},
   "outputs": [
    {
     "data": {
      "text/plain": [
       "array([[ -5.17035484,  -1.07828605,   0.55667931,   4.07629919,\n",
       "         -2.86075401,  -2.19136262,  -9.14555836,  13.41471577,\n",
       "         -4.61133957,   0.77978808]], dtype=float32)"
      ]
     },
     "execution_count": 6,
     "metadata": {},
     "output_type": "execute_result"
    }
   ],
   "source": [
    "vector = net.blobs['ip2'].data\n",
    "vector"
   ]
  },
  {
   "cell_type": "code",
   "execution_count": 7,
   "metadata": {
    "collapsed": true
   },
   "outputs": [],
   "source": []
  },
  {
   "cell_type": "code",
   "execution_count": 8,
   "metadata": {},
   "outputs": [
    {
     "data": {
      "text/plain": [
       "array([[  8.48330917e-09,   5.07841492e-07,   2.60486149e-06,\n",
       "          8.79703075e-05,   8.54303508e-08,   1.66849603e-07,\n",
       "          1.59278202e-10,   9.99905407e-01,   1.48368784e-08,\n",
       "          3.25596352e-06]], dtype=float32)"
      ]
     },
     "execution_count": 8,
     "metadata": {},
     "output_type": "execute_result"
    }
   ],
   "source": [
    "softmax(vector)"
   ]
  },
  {
   "cell_type": "code",
   "execution_count": null,
   "metadata": {},
   "outputs": [],
   "source": [
    "softmax(vector).sum()"
   ]
  },
  {
   "cell_type": "code",
   "execution_count": null,
   "metadata": {
    "collapsed": true
   },
   "outputs": [],
   "source": []
  }
 ],
 "metadata": {
  "kernelspec": {
   "display_name": "Python 2",
   "language": "python",
   "name": "python2"
  },
  "language_info": {
   "codemirror_mode": {
    "name": "ipython",
    "version": 2
   },
   "file_extension": ".py",
   "mimetype": "text/x-python",
   "name": "python",
   "nbconvert_exporter": "python",
   "pygments_lexer": "ipython2",
   "version": "2.7.14"
  }
 },
 "nbformat": 4,
 "nbformat_minor": 2
}
