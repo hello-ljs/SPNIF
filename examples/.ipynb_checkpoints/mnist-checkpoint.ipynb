{
 "cells": [
  {
   "cell_type": "code",
   "execution_count": 1,
   "metadata": {
    "collapsed": true
   },
   "outputs": [],
   "source": [
    "import numpy as np\n",
    "import sys \n",
    "sys.path.append('../src/')\n",
    "from blob2matrix import *\n",
    "from cnn_layers import *\n",
    "import cv2"
   ]
  },
  {
   "cell_type": "code",
   "execution_count": 2,
   "metadata": {
    "collapsed": true
   },
   "outputs": [],
   "source": [
    "filter_conv1='/home/sdu/SPNIF/models/convered_models/MNIST_32/conv1.npy'\n",
    "filter_conv2='/home/sdu/SPNIF/models/convered_models/MNIST_32/conv2.npy'\n",
    "filter_ip1='/home/sdu/SPNIF/models/convered_models/MNIST_32/ip1.npy'\n",
    "filter_ip2='/home/sdu/SPNIF/models/convered_models/MNIST_32/ip2.npy'"
   ]
  },
  {
   "cell_type": "code",
   "execution_count": null,
   "metadata": {
    "collapsed": true
   },
   "outputs": [],
   "source": [
    "#filter_conv1='/home/sdu/SPNIF/models/convered_models/MNIST_16/conv1.npy'\n",
    "#filter_conv2='/home/sdu/SPNIF/models/convered_models/MNIST_16/conv2.npy'\n",
    "#filter_ip1='/home/sdu/SPNIF/models/convered_models/MNIST_16/ip1.npy'\n",
    "#filter_ip2='/home/sdu/SPNIF/models/convered_models/MNIST_16/ip2.npy'"
   ]
  },
  {
   "cell_type": "code",
   "execution_count": 4,
   "metadata": {},
   "outputs": [],
   "source": [
    "test_img = cv2.imread('/home/sdu/SPNIF/images/numbers/0/00003.png')\n",
    "test_img = cv2.cvtColor(test_img,cv2.COLOR_RGB2GRAY)\n",
    "#https://blog.csdn.net/mrr1ght/article/details/80081657 关与caffe中图像通道问题\n",
    "test_img = test_img.astype(np.float32)\n",
    "test_img = test_img.reshape(1,1,28,28)\n",
    "test_img = test_img /255"
   ]
  },
  {
   "cell_type": "code",
   "execution_count": null,
   "metadata": {
    "collapsed": true
   },
   "outputs": [],
   "source": [
    "#test_img"
   ]
  },
  {
   "cell_type": "code",
   "execution_count": 5,
   "metadata": {
    "collapsed": true
   },
   "outputs": [],
   "source": [
    "conv1_out = convolution(test_img,filter_conv1,1,1,0,0)\n",
    "pool1_out = max_pooling_forward(conv1_out,(2,2),strides=(2,2))\n",
    "conv2_out = convolution(pool1_out,filter_conv2,1,1,0,0)\n",
    "pool2_out = max_pooling_forward(conv2_out,(2,2),strides=(2,2))\n",
    "ip1_out = fc_layer(pool2_out,filter_ip1)\n",
    "relu1_out = relu(ip1_out)\n",
    "ip2_out = fc_layer(relu1_out,filter_ip2)"
   ]
  },
  {
   "cell_type": "code",
   "execution_count": 6,
   "metadata": {},
   "outputs": [
    {
     "data": {
      "text/plain": [
       "array([[ 0.42441015, -3.96560582, -1.37168088,  4.3216406 , -4.22169915,\n",
       "        -2.56873487,  4.25075228, -9.5650426 ,  3.26833632,  7.9302133 ]])"
      ]
     },
     "execution_count": 6,
     "metadata": {},
     "output_type": "execute_result"
    }
   ],
   "source": [
    "ip2_out"
   ]
  },
  {
   "cell_type": "code",
   "execution_count": null,
   "metadata": {
    "collapsed": true
   },
   "outputs": [],
   "source": [
    "def softmax_new(x):\n",
    "    y = list()\n",
    "    for t in x:\n",
    "        e_t = np.exp(t - np.max(t))\n",
    "        y.append(e_t / e_t.sum())\n",
    "    return np.array(y)"
   ]
  },
  {
   "cell_type": "code",
   "execution_count": null,
   "metadata": {},
   "outputs": [],
   "source": [
    "result = softmax(ip2_out)\n",
    "result"
   ]
  },
  {
   "cell_type": "code",
   "execution_count": null,
   "metadata": {
    "collapsed": true
   },
   "outputs": [],
   "source": [
    "result.argmax()"
   ]
  }
 ],
 "metadata": {
  "kernelspec": {
   "display_name": "Python 2",
   "language": "python",
   "name": "python2"
  },
  "language_info": {
   "codemirror_mode": {
    "name": "ipython",
    "version": 2
   },
   "file_extension": ".py",
   "mimetype": "text/x-python",
   "name": "python",
   "nbconvert_exporter": "python",
   "pygments_lexer": "ipython2",
   "version": "2.7.14"
  }
 },
 "nbformat": 4,
 "nbformat_minor": 2
}
