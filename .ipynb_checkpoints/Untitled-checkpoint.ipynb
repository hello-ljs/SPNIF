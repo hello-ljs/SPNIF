{
 "cells": [
  {
   "cell_type": "code",
   "execution_count": 1,
   "metadata": {
    "collapsed": true
   },
   "outputs": [],
   "source": [
    "import numpy as np"
   ]
  },
  {
   "cell_type": "code",
   "execution_count": 17,
   "metadata": {},
   "outputs": [],
   "source": [
    "data = np.arange(54).reshape([2, 3, 3, 3])\n",
    "filters = np.arange(24).reshape([2, 3, 2, 2])"
   ]
  },
  {
   "cell_type": "code",
   "execution_count": 21,
   "metadata": {
    "collapsed": true
   },
   "outputs": [],
   "source": [
    "def filter_to_2d(filters):\n",
    "    return filters.reshape(filters.shape[0], -1)\n",
    "\n",
    "def data_to_2d(data, filters, stride_h, stride_w, padding_h, padding_w):\n",
    "    _, C, R, S = filters.shape\n",
    "\n",
    "    data_padded = np.pad(data, ((0, 0), (0, 0), (padding_h, padding_h), (padding_w, padding_w)), mode='constant')\n",
    "    k, i, j = get_im2col_indices(data.shape, filters.shape, stride_h, stride_w, padding_h, padding_w)\n",
    "\n",
    "    cols = np.concatenate(data_padded[:, k, i, j], axis=1)\n",
    "    return cols\n",
    "def get_im2col_indices(x_shape, filters_shape, stride_h, stride_w, padding_h, padding_w):\n",
    "    N, C, H, W = x_shape\n",
    "    _, _, R, S = filters_shape\n",
    "\n",
    "    # calculate output shape P, Q\n",
    "    assert (H - R + 2 * padding_h) % stride_h == 0\n",
    "    assert (H - S + 2 * padding_w) % stride_w == 0\n",
    "    P = (H - R + 2 * padding_h) / stride_h + 1\n",
    "    Q = (W - S + 2 * padding_w) / stride_w + 1\n",
    "\n",
    "    i0 = np.repeat(np.arange(R), S)\n",
    "    i0 = np.tile(i0, C)\n",
    "    i1 = stride_h * np.repeat(np.arange(P), Q)\n",
    "    j0 = np.tile(np.arange(S), R * C)\n",
    "    j1 = stride_w * np.tile(np.arange(Q), P)\n",
    "\n",
    "    i = i0.reshape(-1, 1) + i1.reshape(1, -1)\n",
    "    j = j0.reshape(-1, 1) + j1.reshape(1, -1)\n",
    "\n",
    "    k = np.repeat(np.arange(C), R * S).reshape(-1, 1)\n",
    "\n",
    "    return (k, i, j)"
   ]
  },
  {
   "cell_type": "code",
   "execution_count": 22,
   "metadata": {},
   "outputs": [
    {
     "data": {
      "text/plain": [
       "array([[ 0,  1,  3,  4, 27, 28, 30, 31],\n",
       "       [ 1,  2,  4,  5, 28, 29, 31, 32],\n",
       "       [ 3,  4,  6,  7, 30, 31, 33, 34],\n",
       "       [ 4,  5,  7,  8, 31, 32, 34, 35],\n",
       "       [ 9, 10, 12, 13, 36, 37, 39, 40],\n",
       "       [10, 11, 13, 14, 37, 38, 40, 41],\n",
       "       [12, 13, 15, 16, 39, 40, 42, 43],\n",
       "       [13, 14, 16, 17, 40, 41, 43, 44],\n",
       "       [18, 19, 21, 22, 45, 46, 48, 49],\n",
       "       [19, 20, 22, 23, 46, 47, 49, 50],\n",
       "       [21, 22, 24, 25, 48, 49, 51, 52],\n",
       "       [22, 23, 25, 26, 49, 50, 52, 53]])"
      ]
     },
     "execution_count": 22,
     "metadata": {},
     "output_type": "execute_result"
    }
   ],
   "source": [
    "data_to_2d(data,filters,1,1,0,0)"
   ]
  },
  {
   "cell_type": "code",
   "execution_count": 23,
   "metadata": {},
   "outputs": [
    {
     "data": {
      "text/plain": [
       "array([[[[ 0,  1,  2],\n",
       "         [ 3,  4,  5],\n",
       "         [ 6,  7,  8]],\n",
       "\n",
       "        [[ 9, 10, 11],\n",
       "         [12, 13, 14],\n",
       "         [15, 16, 17]],\n",
       "\n",
       "        [[18, 19, 20],\n",
       "         [21, 22, 23],\n",
       "         [24, 25, 26]]],\n",
       "\n",
       "\n",
       "       [[[27, 28, 29],\n",
       "         [30, 31, 32],\n",
       "         [33, 34, 35]],\n",
       "\n",
       "        [[36, 37, 38],\n",
       "         [39, 40, 41],\n",
       "         [42, 43, 44]],\n",
       "\n",
       "        [[45, 46, 47],\n",
       "         [48, 49, 50],\n",
       "         [51, 52, 53]]]])"
      ]
     },
     "execution_count": 23,
     "metadata": {},
     "output_type": "execute_result"
    }
   ],
   "source": [
    "data"
   ]
  },
  {
   "cell_type": "code",
   "execution_count": null,
   "metadata": {
    "collapsed": true
   },
   "outputs": [],
   "source": []
  }
 ],
 "metadata": {
  "kernelspec": {
   "display_name": "Python 2",
   "language": "python",
   "name": "python2"
  },
  "language_info": {
   "codemirror_mode": {
    "name": "ipython",
    "version": 2
   },
   "file_extension": ".py",
   "mimetype": "text/x-python",
   "name": "python",
   "nbconvert_exporter": "python",
   "pygments_lexer": "ipython2",
   "version": "2.7.14"
  }
 },
 "nbformat": 4,
 "nbformat_minor": 2
}
